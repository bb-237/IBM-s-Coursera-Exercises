{
 "cells": [
  {
   "cell_type": "markdown",
   "id": "e5621702-432a-400c-9282-dce9343a4d41",
   "metadata": {},
   "source": [
    "## First Python Code via IBM's Data Analyst Courses"
   ]
  },
  {
   "cell_type": "code",
   "execution_count": 1,
   "id": "46652924-a50e-44ba-9572-d89a81970153",
   "metadata": {},
   "outputs": [
    {
     "data": {
      "text/plain": [
       "False"
      ]
     },
     "execution_count": 1,
     "metadata": {},
     "output_type": "execute_result"
    }
   ],
   "source": [
    "a=5\n",
    "a==6"
   ]
  },
  {
   "cell_type": "code",
   "execution_count": 2,
   "id": "f8a0b0d1-e9a3-484c-9a4c-239c19e509c4",
   "metadata": {},
   "outputs": [
    {
     "data": {
      "text/plain": [
       "True"
      ]
     },
     "execution_count": 2,
     "metadata": {},
     "output_type": "execute_result"
    }
   ],
   "source": [
    "b = 5\n",
    "b != 6"
   ]
  },
  {
   "cell_type": "code",
   "execution_count": 3,
   "id": "84abc651-f23c-4bd0-8a1e-6bc7ae50590b",
   "metadata": {},
   "outputs": [
    {
     "data": {
      "text/plain": [
       "False"
      ]
     },
     "execution_count": 3,
     "metadata": {},
     "output_type": "execute_result"
    }
   ],
   "source": [
    "\"Ayuk\" == \"ayuk\""
   ]
  },
  {
   "cell_type": "code",
   "execution_count": 11,
   "id": "33af7c59-daaf-435a-a7f3-d652e62252a4",
   "metadata": {},
   "outputs": [
    {
     "data": {
      "text/plain": [
       "True"
      ]
     },
     "execution_count": 11,
     "metadata": {},
     "output_type": "execute_result"
    }
   ],
   "source": [
    "A = \"A\"\n",
    "C = \"c\"\n",
    "C>A"
   ]
  },
  {
   "cell_type": "markdown",
   "id": "30cb5cc6-c024-4d7f-bae5-2cfcde795ded",
   "metadata": {},
   "source": [
    "## Branching"
   ]
  },
  {
   "cell_type": "code",
   "execution_count": 36,
   "id": "a7bb4724-8800-4f62-b182-a47ef018f019",
   "metadata": {},
   "outputs": [
    {
     "name": "stdout",
     "output_type": "stream",
     "text": [
      "Yes, You're Eligible\n",
      "Move on\n"
     ]
    }
   ],
   "source": [
    "age = 21\n",
    "\n",
    "if age > 20:\n",
    "    print(\"Yes, You're Eligible\")\n",
    "elif age == 20:\n",
    "    print(\"Visit Cameroon!\")\n",
    "else:\n",
    "    print(\"Go see meat loaf\")\n",
    "print(\"Move on\")"
   ]
  },
  {
   "cell_type": "code",
   "execution_count": 52,
   "id": "1f762658-1dd1-4e1f-aae4-5efbdc4b58de",
   "metadata": {},
   "outputs": [
    {
     "name": "stdout",
     "output_type": "stream",
     "text": [
      "Album is Available\n"
     ]
    }
   ],
   "source": [
    "album_year = 2000\n",
    "album_year = 2010\n",
    "\n",
    "if album_year > 2004:\n",
    "    print(\"Album is Available\")\n",
    "else:\n",
    "    print(\"Not Available\")\n",
    "    print(\"Select different Album\")"
   ]
  },
  {
   "cell_type": "markdown",
   "id": "7fc70806-24c5-4171-bb93-97e976d7df20",
   "metadata": {},
   "source": [
    "## Logical Operators"
   ]
  },
  {
   "cell_type": "code",
   "execution_count": 62,
   "id": "eb23e509-6a73-467f-806b-aeddea285091",
   "metadata": {},
   "outputs": [
    {
     "name": "stdout",
     "output_type": "stream",
     "text": [
      "You were born between 2000 and 2010\n",
      "Have a seat\n"
     ]
    }
   ],
   "source": [
    "Dirth_of_Birth = 2001\n",
    "\n",
    "if(Dirth_of_Birth > 1999) and (Dirth_of_Birth < 2011):\n",
    "    print(\"You were born between 2000 and 2010\")\n",
    "    print(\"Have a seat\")\n",
    "else:\n",
    "    print(\"Come back next year\")"
   ]
  },
  {
   "cell_type": "markdown",
   "id": "43d88d82-affd-46c4-acab-aa037efb22a7",
   "metadata": {},
   "source": [
    "## Quiz on Combinations"
   ]
  },
  {
   "cell_type": "code",
   "execution_count": 63,
   "id": "a48931e1-6408-4adc-88dd-01df46c4adb5",
   "metadata": {},
   "outputs": [
    {
     "name": "stdout",
     "output_type": "stream",
     "text": [
      "This Album is Amazing!\n"
     ]
    }
   ],
   "source": [
    "Album_Rating = 8.5\n",
    "if Album_Rating > 8:\n",
    "    print(\"This Album is Amazing!\")"
   ]
  },
  {
   "cell_type": "code",
   "execution_count": 67,
   "id": "4eb20cb4-89eb-4e11-9987-aaef4f12c099",
   "metadata": {},
   "outputs": [
    {
     "name": "stdout",
     "output_type": "stream",
     "text": [
      "This Album is Ok\n"
     ]
    }
   ],
   "source": [
    "Album_Rating = 8\n",
    "if Album_Rating > 8:\n",
    "    print(\"This Album is Amazing!\")\n",
    "else:\n",
    "    print(\"This Album is Ok\")"
   ]
  },
  {
   "cell_type": "code",
   "execution_count": 74,
   "id": "4ebbd140-169e-4169-9add-bcc581f29132",
   "metadata": {},
   "outputs": [
    {
     "name": "stdout",
     "output_type": "stream",
     "text": [
      "1991\n"
     ]
    }
   ],
   "source": [
    "Release_Year = 1991\n",
    "if (Release_Year < 1980) or (Release_Year == 1991) or (Release_Year == 1993):\n",
    "    print(Release_Year)\n"
   ]
  },
  {
   "cell_type": "code",
   "execution_count": null,
   "id": "33d66cb0-ff82-4981-98d5-c75cd9a638b2",
   "metadata": {},
   "outputs": [],
   "source": []
  }
 ],
 "metadata": {
  "kernelspec": {
   "display_name": "Python",
   "language": "python",
   "name": "conda-env-python-py"
  },
  "language_info": {
   "codemirror_mode": {
    "name": "ipython",
    "version": 3
   },
   "file_extension": ".py",
   "mimetype": "text/x-python",
   "name": "python",
   "nbconvert_exporter": "python",
   "pygments_lexer": "ipython3",
   "version": "3.6.13"
  }
 },
 "nbformat": 4,
 "nbformat_minor": 5
}
